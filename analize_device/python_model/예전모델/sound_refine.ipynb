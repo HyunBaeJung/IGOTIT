{
 "cells": [
  {
   "cell_type": "code",
   "execution_count": null,
   "metadata": {},
   "outputs": [],
   "source": [
    "#cmd 파일파일"
   ]
  },
  {
   "cell_type": "code",
   "execution_count": 1,
   "metadata": {},
   "outputs": [],
   "source": [
    "import os\n",
    "from tqdm import tqdm\n",
    "import pandas as pd\n",
    "import numpy as np\n",
    "import matplotlib.pyplot as plt\n",
    "from scipy.io import wavfile\n",
    "from python_speech_features import mfcc, logfbank\n",
    "import librosa"
   ]
  },
  {
   "cell_type": "code",
   "execution_count": null,
   "metadata": {},
   "outputs": [],
   "source": [
    "fft"
   ]
  },
  {
   "cell_type": "code",
   "execution_count": 2,
   "metadata": {},
   "outputs": [],
   "source": [
    "def plot_signals(signals):\n",
    "    fig, axes = plt.subplots(nrows=2, ncols=5, sharex=False,\n",
    "                             sharey=True, figsize=(20,5))\n",
    "    fig.suptitle('Time Series', size=16)\n",
    "    i = 0\n",
    "    for x in range(2):\n",
    "        for y in range(5):\n",
    "            axes[x,y].set_title(list(signals.keys())[i])\n",
    "            axes[x,y].plot(list(signals.values())[i])\n",
    "            axes[x,y].get_xaxis().set_visible(False)\n",
    "            axes[x,y].get_yaxis().set_visible(False)\n",
    "            i += 1"
   ]
  },
  {
   "cell_type": "code",
   "execution_count": null,
   "metadata": {},
   "outputs": [],
   "source": [
    "signals['test'][0]"
   ]
  },
  {
   "cell_type": "code",
   "execution_count": 3,
   "metadata": {},
   "outputs": [],
   "source": [
    "def plot_fft(fft):\n",
    "    fig, axes = plt.subplots(nrows=2, ncols=5, sharex=False,\n",
    "                             sharey=True, figsize=(20,5))\n",
    "    fig.suptitle('Fourier Transforms', size=16)\n",
    "    i = 0\n",
    "    for x in range(2):\n",
    "        for y in range(5):\n",
    "            data = list(fft.values())[i]\n",
    "            Y, freq = data[0], data[1]\n",
    "            axes[x,y].set_title(list(fft.keys())[i])\n",
    "            axes[x,y].plot(freq, Y)\n",
    "            axes[x,y].get_xaxis().set_visible(False)\n",
    "            axes[x,y].get_yaxis().set_visible(False)\n",
    "            i += 1"
   ]
  },
  {
   "cell_type": "code",
   "execution_count": 4,
   "metadata": {},
   "outputs": [],
   "source": [
    "def plot_fbank(fbank):\n",
    "    fig, axes = plt.subplots(nrows=2, ncols=5, sharex=False,\n",
    "                             sharey=True, figsize=(20,5))\n",
    "    fig.suptitle('Filter Bank Coefficients', size=16)\n",
    "    i = 0\n",
    "    for x in range(2):\n",
    "        for y in range(5):\n",
    "            axes[x,y].set_title(list(fbank.keys())[i])\n",
    "            axes[x,y].imshow(list(fbank.values())[i],\n",
    "                    cmap='hot', interpolation='nearest')\n",
    "            axes[x,y].get_xaxis().set_visible(False)\n",
    "            axes[x,y].get_yaxis().set_visible(False)\n",
    "            i += 1\n"
   ]
  },
  {
   "cell_type": "code",
   "execution_count": 5,
   "metadata": {},
   "outputs": [],
   "source": [
    "def plot_mfccs(mfccs):\n",
    "    fig, axes = plt.subplots(nrows=2, ncols=5, sharex=False,\n",
    "                             sharey=True, figsize=(20,5))\n",
    "    fig.suptitle('Mel Frequency Cepstrum Coefficients', size=16)\n",
    "    i = 0\n",
    "    for x in range(2):\n",
    "        for y in range(5):\n",
    "            axes[x,y].set_title(list(mfccs.keys())[i])\n",
    "            axes[x,y].imshow(list(mfccs.values())[i],\n",
    "                    cmap='hot', interpolation='nearest')\n",
    "            axes[x,y].get_xaxis().set_visible(False)\n",
    "            axes[x,y].get_yaxis().set_visible(False)\n",
    "            i += 1\n"
   ]
  },
  {
   "cell_type": "code",
   "execution_count": 6,
   "metadata": {},
   "outputs": [],
   "source": [
    "#FFT(Fast Fourier Transform)는 아주 적은 계산량으로 \n",
    "#이산 푸리에 변환값을 계산하는 알고리즘을 말한다. \n",
    "def calc_fft(y, rate):\n",
    "    n = len(y)\n",
    "    freq = np.fft.rfftfreq(n, d=1/rate)\n",
    "    # nomalize위한 코드\n",
    "    Y = abs(np.fft.rfft(y)/n)\n",
    "    return (Y,freq)"
   ]
  },
  {
   "cell_type": "code",
   "execution_count": 7,
   "metadata": {},
   "outputs": [],
   "source": [
    "#소리 데이터의 무의미한 부분은 식병을 어렵게 하기 때문에\n",
    "#소리의 역치를 이용해 그런 부분을 제거하는 함수\n",
    "#signal envloperk rmfjsrjek.\n",
    "#thresh hold값은 0.0005로 셋팅하는게 이분에겐 먹혔지만\n",
    "#이상하게 나온다면 알아서들 조절해봐라.\n",
    "def envelope(y, rate, threshold):\n",
    "    mask=[]\n",
    "    #가끔 마이너스감 절댓값\n",
    "    y = pd.Series(y).apply(np.abs)\n",
    "    y_mean = y.rolling(window=int(rate/10),min_periods=1,center=True).mean()\n",
    "    for mean in y_mean:\n",
    "        if mean > threshold:\n",
    "            mask.append(True)\n",
    "        else:\n",
    "            mask.append(False)\n",
    "    return mask"
   ]
  },
  {
   "cell_type": "code",
   "execution_count": 8,
   "metadata": {},
   "outputs": [],
   "source": [
    "df = pd.read_csv('dataset.csv')"
   ]
  },
  {
   "cell_type": "code",
   "execution_count": 9,
   "metadata": {},
   "outputs": [],
   "source": [
    "#레이블과 fname밖에 존재하지 않음\n",
    "df.set_index('fname', inplace=True)"
   ]
  },
  {
   "cell_type": "code",
   "execution_count": 10,
   "metadata": {},
   "outputs": [
    {
     "data": {
      "text/plain": [
       "fname\n",
       "test.wav    test\n",
       "Name: label, dtype: object"
      ]
     },
     "execution_count": 10,
     "metadata": {},
     "output_type": "execute_result"
    }
   ],
   "source": [
    "df.label"
   ]
  },
  {
   "cell_type": "code",
   "execution_count": 11,
   "metadata": {},
   "outputs": [],
   "source": [
    "#DataFrame에 length파악해서 컬럼추가\n",
    "for f in df.index:\n",
    "    rate, signal = wavfile.read('test/'+f)\n",
    "    df.at[f, 'length'] = signal.shape[0]/rate"
   ]
  },
  {
   "cell_type": "code",
   "execution_count": 12,
   "metadata": {},
   "outputs": [],
   "source": [
    "classes = list(np.unique(df.label))"
   ]
  },
  {
   "cell_type": "code",
   "execution_count": 13,
   "metadata": {},
   "outputs": [],
   "source": [
    "#같은 레이블마다 더해서 평균 구하기\n",
    "class_dist = df.groupby(['label'])['length'].mean()"
   ]
  },
  {
   "cell_type": "code",
   "execution_count": 14,
   "metadata": {
    "scrolled": true
   },
   "outputs": [
    {
     "data": {
      "image/png": "[encoded data removed]",
      "text/plain": [
       "<Figure size 432x288 with 1 Axes>"
      ]
     },
     "metadata": {},
     "output_type": "display_data"
    }
   ],
   "source": [
    "fig, ax = plt.subplots()\n",
    "ax.set_title('Class Distribution', y = 1.08)\n",
    "ax.pie(class_dist, labels=class_dist.index, autopct='%1.1f%%',\n",
    "      shadow=False, startangle=90)\n",
    "ax.axis('equal')\n",
    "plt.show()\n",
    "df.reset_index(inplace=True)"
   ]
  },
  {
   "cell_type": "code",
   "execution_count": 15,
   "metadata": {},
   "outputs": [],
   "source": [
    "signals = {}\n",
    "fft = {}\n",
    "fbank = {}\n",
    "mfccs = {}"
   ]
  },
  {
   "cell_type": "code",
   "execution_count": 16,
   "metadata": {
    "scrolled": true
   },
   "outputs": [
    {
     "name": "stdout",
     "output_type": "stream",
     "text": [
      "{'test': (array([4.86170305e-05, 9.50430649e-06, 4.01811673e-06, ...,\n",
      "       1.66925304e-08, 2.35494818e-08, 8.57170435e-09]), array([0.00000000e+00, 2.26261756e-01, 4.52523511e-01, ...,\n",
      "       2.20494343e+04, 2.20496606e+04, 2.20498869e+04]))}\n",
      "{'test': array([ 2.4414062e-04,  9.1552734e-04,  1.2512207e-03, ...,\n",
      "       -3.6621094e-04, -1.2207031e-04,  7.6293945e-05], dtype=float32)}\n",
      "{'test': array([[-19.74559675, -19.99566297, -19.64245255, ..., -10.80538762,\n",
      "        -15.10615643,  -8.73086702],\n",
      "       [-18.93590416, -19.96615428, -19.47739857, ..., -10.53309489,\n",
      "        -13.85751681,  -9.02915874],\n",
      "       [-18.55850921, -20.01184782, -19.47673885, ..., -10.32092275,\n",
      "        -12.29807996,  -8.58540231],\n",
      "       ...,\n",
      "       [-18.5171541 , -17.30403276, -18.44188974, ...,  -9.30427154,\n",
      "         -9.13345994,  -8.77370534],\n",
      "       [-18.30683132, -17.12885798, -18.36656768, ..., -10.21284332,\n",
      "        -12.80026848, -10.2587077 ],\n",
      "       [-18.17630731, -17.11152571, -18.27626472, ..., -10.27660131,\n",
      "        -12.70948744, -10.26141533]])}\n",
      "{'test': array([[-9.31110351e+00, -8.63283995e+00, -8.06979999e+00, ...,\n",
      "        -9.10484009e-01, -7.75028794e-01, -8.05657369e-01],\n",
      "       [-1.67653646e+01, -2.09673556e+01, -1.72571531e+01, ...,\n",
      "        -3.17710988e+00, -1.03441794e+01,  1.20857604e+00],\n",
      "       [-4.82504411e+01, -5.08082248e+01, -5.58012281e+01, ...,\n",
      "        -5.51586153e+01, -7.32940957e+01, -4.68111632e+01],\n",
      "       ...,\n",
      "       [ 2.00791534e-02,  2.39205982e+00,  2.89799173e+00, ...,\n",
      "        -1.77869480e+01, -3.16690136e+01, -2.02811452e+01],\n",
      "       [ 1.65992299e+00,  1.33487144e+01,  1.67439337e+01, ...,\n",
      "        -1.86513458e+00, -2.19911349e+00,  7.29163052e+00],\n",
      "       [ 7.82586484e+00,  1.25643243e+01,  1.66622677e+01, ...,\n",
      "         8.58980823e+00,  7.54312507e+00,  1.48632195e+01]])}\n"
     ]
    }
   ],
   "source": [
    "#클래스 이름따라 데이터 librosa에 넣기\n",
    "for c in classes:\n",
    "    wav_file = df[df.label == c].iloc[0,0]\n",
    "    # librosa에 load하면 signal과 sr즉 sound rate가 발생됩니다.\n",
    "    # signal은 음파를 행렬로 표현한 데이터이고\n",
    "    # sr은 그 파일의 sound rate를 자동으로 뽑아준다.\n",
    "    signal, rate = librosa.load('test/'+wav_file, sr =44100)\n",
    "    mask = envelope(signal, rate, 0.0005)\n",
    "    signal=signal[mask]\n",
    "    signals[c] = signal\n",
    "    fft[c]= calc_fft(signal,rate) #사전에 정의해놓은 calc_fft 함수를 이용해서 푸리에 변환 \n",
    "\n",
    "    bank = logfbank(signal[:rate],rate,nfilt=26,nfft=1103).T\n",
    "    fbank[c] = bank\n",
    "    mel = mfcc(signal[:rate], rate, numcep=13, nfilt=26, nfft=1103).T\n",
    "    mfccs[c] = mel\n",
    "print(fft)\n",
    "print(signals)\n",
    "print(fbank)\n",
    "print(mfccs)"
   ]
  },
  {
   "cell_type": "code",
   "execution_count": 17,
   "metadata": {},
   "outputs": [
    {
     "data": {
      "text/plain": [
       "<matplotlib.collections.PathCollection at 0x1cd23b6fc88>"
      ]
     },
     "execution_count": 17,
     "metadata": {},
     "output_type": "execute_result"
    },
    {
     "data": {
      "image/png": "[encoded data removed]",
      "text/plain": [
       "<Figure size 432x288 with 1 Axes>"
      ]
     },
     "metadata": {},
     "output_type": "display_data"
    }
   ],
   "source": [
    "import matplotlib.pyplot as plt\n",
    "plt.scatter(fft['test'][1],fft['test'][0])"
   ]
  },
  {
   "cell_type": "code",
   "execution_count": 27,
   "metadata": {},
   "outputs": [
    {
     "name": "stdout",
     "output_type": "stream",
     "text": [
      "1399.8814819375393\n"
     ]
    }
   ],
   "source": [
    "a={}\n",
    "for i in range(len(fft['test'][0])):\n",
    "    a[fft['test'][1][i]]=fft['test'][0][i]\n",
    "for i in a:\n",
    "    if a[i]==fft['test'][0].max():\n",
    "        b=i\n",
    "print(b)\n",
    "# for i in a:\n",
    "#     print(i)"
   ]
  },
  {
   "cell_type": "code",
   "execution_count": 24,
   "metadata": {},
   "outputs": [
    {
     "data": {
      "text/plain": [
       "0.0037253083740834267"
      ]
     },
     "execution_count": 24,
     "metadata": {},
     "output_type": "execute_result"
    }
   ],
   "source": [
    "fft['test'][0].max()"
   ]
  },
  {
   "cell_type": "code",
   "execution_count": null,
   "metadata": {},
   "outputs": [],
   "source": []
  },
  {
   "cell_type": "code",
   "execution_count": null,
   "metadata": {},
   "outputs": [],
   "source": [
    "maximum_value=0\n",
    "for i in range(len(pd.Series(np.array(fft['test'][0])))):\n",
    "    # pd.Series(np.array(fft['test'][0]).tolist()):\n",
    "    if i==0:\n",
    "        continue\n",
    "    else:\n",
    "        if pd.Series(np.array(fft['test'][0]))[i]>pd.Series(np.array(fft['test'][0]))[i-1]:\n",
    "            maximum_value=pd.Series(np.array(fft['test'][0]))[i]\n",
    "        else:\n",
    "            continue\n",
    "print(maximum_value)"
   ]
  },
  {
   "cell_type": "code",
   "execution_count": null,
   "metadata": {},
   "outputs": [],
   "source": [
    "len(pd.Series(np.array(fft['test'][0])))"
   ]
  },
  {
   "cell_type": "code",
   "execution_count": null,
   "metadata": {},
   "outputs": [],
   "source": [
    "plt.scatter(fft['test'][1],fft['test'][0])"
   ]
  },
  {
   "cell_type": "code",
   "execution_count": null,
   "metadata": {},
   "outputs": [],
   "source": [
    "plt.scatter(signals['test'][1],signals['test'][0])\n",
    "plt.show()"
   ]
  },
  {
   "cell_type": "code",
   "execution_count": null,
   "metadata": {},
   "outputs": [],
   "source": [
    "plot_signals(signals)\n",
    "plt.show()"
   ]
  },
  {
   "cell_type": "code",
   "execution_count": null,
   "metadata": {},
   "outputs": [],
   "source": [
    "plot_fft(fft)\n",
    "plt.show()"
   ]
  },
  {
   "cell_type": "code",
   "execution_count": null,
   "metadata": {
    "scrolled": true
   },
   "outputs": [],
   "source": [
    "#frequenct가 얼만큼의 비중을 차지하는지가 표현된다.\n",
    "# 60헤르트라면 일직선에 60만 상승된다.\n",
    "plot_fft(fft)\n",
    "plt.show()"
   ]
  },
  {
   "cell_type": "code",
   "execution_count": null,
   "metadata": {},
   "outputs": [],
   "source": [
    "plot_fbank(fbank)\n",
    "plt.show()"
   ]
  },
  {
   "cell_type": "code",
   "execution_count": null,
   "metadata": {},
   "outputs": [],
   "source": [
    "plot_mfccs(mfccs)\n",
    "plt.show()"
   ]
  },
  {
   "cell_type": "code",
   "execution_count": null,
   "metadata": {},
   "outputs": [],
   "source": [
    "if len(os.listdir('clean'))==0:\n",
    "    for f in tqdm(df.fname):\n",
    "        signal, rate = librosa.load('wavfiles/'+f, sr=16000)\n",
    "        mask = envelope(signal, rate, 0.0005)\n",
    "        wavfile.write(filename='clean/'+f, rate=rate, data= signal[mask])"
   ]
  },
  {
   "cell_type": "markdown",
   "metadata": {},
   "source": [
    "- die out되는 부분을 없애야 인식을 잘 할수 있다.\n",
    "- 그래서 필터링을 해야한다. noise 역치를 만든다.\n",
    "- dead space를 없애야한다. 매우 중요하다."
   ]
  },
  {
   "cell_type": "markdown",
   "metadata": {},
   "source": [
    "# 지금까지의 Process\n",
    "- 오디오 파일을 불러온다\n",
    "- Noise Threshold를 이용해 무의미한 부분을 제거한다.\n",
    "- Down Scaling을 한다.\n",
    "- 정제된 데이터를 clean 폴더에 저장한다."
   ]
  },
  {
   "cell_type": "code",
   "execution_count": null,
   "metadata": {},
   "outputs": [],
   "source": []
  }
 ],
 "metadata": {
  "anaconda-cloud": {},
  "kernelspec": {
   "display_name": "Python 3",
   "language": "python",
   "name": "python3"
  },
  "language_info": {
   "codemirror_mode": {
    "name": "ipython",
    "version": 3
   },
   "file_extension": ".py",
   "mimetype": "text/x-python",
   "name": "python",
   "nbconvert_exporter": "python",
   "pygments_lexer": "ipython3",
   "version": "3.6.5"
  }
 },
 "nbformat": 4,
 "nbformat_minor": 2
}
