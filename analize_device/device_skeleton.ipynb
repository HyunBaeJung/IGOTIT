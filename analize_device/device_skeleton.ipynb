{
 "cells": [
  {
   "cell_type": "code",
   "execution_count": null,
   "metadata": {},
   "outputs": [],
   "source": [
    "\"\"\"\n",
    "class 소리감지(소리데이터input):\n",
    "\n",
    "    입력되는 소리청취\n",
    "\n",
    "    def 높은데시벨 감지():\n",
    "        class 비명분류 \n",
    "        \n",
    "    def 특정단어 감지():\n",
    "        class 특정단어분류\n",
    "\n",
    "\"\"\""
   ]
  },
  {
   "cell_type": "code",
   "execution_count": null,
   "metadata": {},
   "outputs": [],
   "source": [
    "\"\"\"\n",
    "class 비명분류(소리데이터input):\n",
    "    \n",
    "    입력된 소리데이터를 분석하여 학습된 데이터 (비명소리, 대조군) 중 \n",
    "    예측값 출력 \n",
    "    (비명소리냐 비명이 아닌 소리냐 둘 중 하나만 출력)\n",
    "    EX)비명확률 = n%\n",
    "    \n",
    "    IF 비명확률 > n%:\n",
    "        {% 버퍼링된 소리30초 + 뒤의소리 30초 %}값\n",
    "        위기시 데이터전송class에 전송\n",
    "    \n",
    "\"\"\""
   ]
  },
  {
   "cell_type": "code",
   "execution_count": null,
   "metadata": {},
   "outputs": [],
   "source": [
    "\"\"\"\n",
    "class 데이터 저장(소리 데이터 input)\n",
    "    30초마다 30초간격음성.wav 저장\n",
    "    \n",
    "    if 앱이 꺼질 때:\n",
    "        전체음성데이터.wav 저장\n",
    "    \n",
    "\"\"\""
   ]
  },
  {
   "cell_type": "code",
   "execution_count": null,
   "metadata": {},
   "outputs": [],
   "source": [
    "\"\"\"\n",
    "class 특정단어 분류(소리데이터input):\n",
    "    \n",
    "    1 or 2 \n",
    "    \n",
    "    1. 입력된 소리데이터를 분석하여 학습된 데이터 ( 대조군(ex.국어지문 읽는소리) ) 중 \n",
    "    예측값 출력 \n",
    "    EX) 트리거확률 = n% \n",
    "    \n",
    "    2. STT를 통해 변환된 텍스트가 지정된 트리거일 경우 위기상황으로 분류\n",
    "        {% 버퍼링된 소리30초 + 뒤의소리 30초 %}값\n",
    "        위기시 데이터전송class에 전송\n",
    "        \n",
    "    \n",
    "\"\"\""
   ]
  },
  {
   "cell_type": "code",
   "execution_count": null,
   "metadata": {},
   "outputs": [],
   "source": [
    "\"\"\"\n",
    "class 위기시 데이터전송({% 버퍼링된 소리30초 + 뒤의소리 30초 %}):\n",
    "    \n",
    "    위험신호(비명 or 특정단어) 감지 시 데이터 전송\n",
    "    APP에게 1분음성.wav 전송\n",
    "    \n",
    "\"\"\""
   ]
  },
  {
   "cell_type": "code",
   "execution_count": null,
   "metadata": {},
   "outputs": [],
   "source": []
  },
  {
   "cell_type": "code",
   "execution_count": null,
   "metadata": {},
   "outputs": [],
   "source": [
    "\"\"\"\n",
    "class 서버전송( 음성데이터.wav ):\n",
    "    \n",
    "    GPS데이터와 음성데이터.wav 전체를\n",
    "    시간대별로 매핑하여 서버에 전송한다.\n",
    "\n",
    "\"\"\""
   ]
  },
  {
   "cell_type": "code",
   "execution_count": null,
   "metadata": {},
   "outputs": [],
   "source": []
  }
 ],
 "metadata": {
  "kernelspec": {
   "display_name": "Python 3",
   "language": "python",
   "name": "python3"
  },
  "language_info": {
   "codemirror_mode": {
    "name": "ipython",
    "version": 3
   },
   "file_extension": ".py",
   "mimetype": "text/x-python",
   "name": "python",
   "nbconvert_exporter": "python",
   "pygments_lexer": "ipython3",
   "version": "3.7.2"
  }
 },
 "nbformat": 4,
 "nbformat_minor": 2
}
