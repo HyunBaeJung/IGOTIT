{
 "cells": [
  {
   "cell_type": "code",
   "execution_count": 1,
   "metadata": {},
   "outputs": [
    {
     "name": "stderr",
     "output_type": "stream",
     "text": [
      "Using TensorFlow backend.\n"
     ]
    }
   ],
   "source": [
    "import os\n",
    "from scipy.io import wavfile\n",
    "import pandas as pd\n",
    "import matplotlib.pyplot as plt\n",
    "import numpy as np\n",
    "from keras.layers import Conv2D, MaxPool2D, Flatten, LSTM\n",
    "from keras.layers import Dropout, Dense, TimeDistributed\n",
    "from keras.models import Sequential\n",
    "from keras.utils import to_categorical\n",
    "from sklearn.utils.class_weight import compute_class_weight\n",
    "from tqdm import tqdm\n",
    "from python_speech_features import mfcc"
   ]
  },
  {
   "cell_type": "code",
   "execution_count": 20,
   "metadata": {},
   "outputs": [],
   "source": [
    "def build_rand_feat():\n",
    "    x = []\n",
    "    y = []\n",
    "    _min, _max = float('inf'),-float('inf')\n",
    "    #뉴럴 네트워크에선 보통 결과값을 0~1로 정제하기떄문에\n",
    "    #min max값을 아는것이 중요하다.\n",
    "    for _ in tqdm(range(n_samples)):\n",
    "        rand_class = np.random.choice(class_dist.index, p=prob_dist)\n",
    "        file = np.random.choice(df[df.label==rand_class].index)\n",
    "        rate, wav = wavfile.read('test_clean/'+file)\n",
    "        label = df.at[file,'label']\n",
    "        rand_index = np.random.randint(0,wav.shape[0]-config.step)\n",
    "        sample = wav[rand_index:rand_index+config.step]\n",
    "        x_sample = mfcc(sample, rate,\n",
    "                       numcep=config.nfeat, nfft=config.nfft).T\n",
    "        _min = min(np.amin(x_sample), _min)\n",
    "        _max = max(np.amin(x_sample), _max)\n",
    "        x.append(x_sample if config.mode == 'conv' else x_sample.T)\n",
    "        y.append(classes.index(label))\n",
    "    x, y = np.array(x), np.array(y)\n",
    "    x = (x- _min) / (_max - _min)\n",
    "    if config.mode == 'conv':\n",
    "        x = x.reshape(x.shape[0], x.shape[1], x.shape[2], 1)\n",
    "    elif config.mode == 'time':\n",
    "        x = x.reshape(x.shape[0], x.shape[1], x.shape[2])\n",
    "    y = to_categorical(y, num_classes=10)\n",
    "    \n",
    "    return x,y"
   ]
  },
  {
   "cell_type": "code",
   "execution_count": 3,
   "metadata": {},
   "outputs": [],
   "source": [
    "def get_recurrent_model():\n",
    "    #shape of data for RNN is (n, time, feat)\n",
    "    model = Sequential()\n",
    "    model.add(LSTM(128, return_sequences=True ,input_shape=input_shape))\n",
    "    model.add(LSTM(128, return_sequences=True))\n",
    "    model.add(Dropout(0.5))\n",
    "    model.add(TimeDistributed(Dense(64, activation='relu')))\n",
    "    model.add(TimeDistributed(Dense(32, activation='relu')))\n",
    "    model.add(TimeDistributed(Dense(16, activation='relu')))\n",
    "    model.add(TimeDistributed(Dense(8, activation='relu')))\n",
    "    model.add(Flatten())\n",
    "    model.add(Dense(10, activation=\"softmax\"))\n",
    "    model.summary()\n",
    "    model.compile(loss='categorical_crossentropy',\n",
    "                 optimizer='adam',\n",
    "                 metrics=['acc'])\n",
    "    return model\n",
    "    "
   ]
  },
  {
   "cell_type": "code",
   "execution_count": 4,
   "metadata": {},
   "outputs": [],
   "source": [
    "def get_conv_model():\n",
    "    model = Sequential()\n",
    "    #렐루모델 학습을 1,1씩 한다.\n",
    "    model.add(Conv2D(16, (3,3), activation='relu',strides=(1, 1),\n",
    "                    padding=\"same\", input_shape=input_shape))\n",
    "    model.add(Conv2D(32, (3,3), activation='relu',strides=(1, 1),\n",
    "                    padding=\"same\", input_shape=input_shape))\n",
    "    model.add(Conv2D(64, (3,3), activation='relu',strides=(1, 1),\n",
    "                    padding=\"same\", input_shape=input_shape))\n",
    "    model.add(Conv2D(128, (3,3), activation='relu',strides=(1, 1),\n",
    "                    padding=\"same\", input_shape=input_shape))\n",
    "    model.add(MaxPool2D(2,2))\n",
    "    model.add(Dropout(0,5))\n",
    "    model.add(Flatten())\n",
    "    model.add(Dense(128,activation='relu'))\n",
    "    model.add(Dense(64,activation='relu'))\n",
    "    model.add(Dense(10,activation='softmax'))\n",
    "    model.summary()\n",
    "    model.compile(loss='categorical_crossentropy',\n",
    "                 optimizer='adam',\n",
    "                 metrics=['acc'])\n",
    "    return model"
   ]
  },
  {
   "cell_type": "code",
   "execution_count": 5,
   "metadata": {},
   "outputs": [],
   "source": [
    "class Config:\n",
    "    def __init__(self, mode='conv', nfilt=26, nfeat = 13, nfft=512, rate=16000):\n",
    "        self.mode = mode\n",
    "        self.nfilt=nfilt\n",
    "        self.nfeat=nfeat\n",
    "        self.nfft=nfft\n",
    "        self.rate=rate\n",
    "        self.step = int(rate/10)"
   ]
  },
  {
   "cell_type": "markdown",
   "metadata": {},
   "source": [
    "## -----------------------------------------------아래부터-------------------------------------------------"
   ]
  },
  {
   "cell_type": "code",
   "execution_count": 45,
   "metadata": {},
   "outputs": [],
   "source": [
    "df = pd.read_csv('test.csv')\n",
    "df.set_index('fname', inplace=True)"
   ]
  },
  {
   "cell_type": "code",
   "execution_count": 46,
   "metadata": {},
   "outputs": [
    {
     "data": {
      "image/png": "[encoded data removed]",
      "text/plain": [
       "<Figure size 432x288 with 1 Axes>"
      ]
     },
     "metadata": {},
     "output_type": "display_data"
    }
   ],
   "source": [
    "for f in df.index:\n",
    "    rate, signal = wavfile.read('test_clean/'+f)\n",
    "    df.at[f, 'length'] = signal.shape[0]/rate\n",
    "\n",
    "classes = list(np.unique(df.label))\n",
    "class_dist = df.groupby(['label'])['length'].mean()\n",
    "\n",
    "#10분의 1로 데이터를 자름\n",
    "n_samples = 2 * int(df['length'].sum()/0.1)\n",
    "prob_dist = class_dist / class_dist.sum()\n",
    "#카테고리 하나 랜덤으로 뽑아옴\n",
    "choices = np.random.choice(class_dist.index, p= prob_dist)\n",
    "\n",
    "fig, ax = plt.subplots()\n",
    "ax.set_title('Class Distribution', y=1.08)\n",
    "ax.pie(class_dist, labels=class_dist.index, autopct='%1.1f%%',\n",
    "       shadow=False, startangle=90)\n",
    "ax.axis('equal')\n",
    "plt.show()"
   ]
  },
  {
   "cell_type": "code",
   "execution_count": 47,
   "metadata": {},
   "outputs": [],
   "source": [
    "config = Config(mode='conv')"
   ]
  },
  {
   "cell_type": "code",
   "execution_count": 48,
   "metadata": {},
   "outputs": [
    {
     "name": "stderr",
     "output_type": "stream",
     "text": [
      "100%|███████████████████████████████████████████████████████████████████████████████| 212/212 [00:01<00:00, 209.77it/s]\n"
     ]
    }
   ],
   "source": [
    "x,y = build_rand_feat()\n",
    "y_flat = np.argmax(y, axis=1)\n",
    "input_shape = (x.shape[1], x.shape[2], 1)\n",
    "#test = get_conv_model()"
   ]
  },
  {
   "cell_type": "code",
   "execution_count": null,
   "metadata": {},
   "outputs": [],
   "source": []
  },
  {
   "cell_type": "code",
   "execution_count": 49,
   "metadata": {},
   "outputs": [
    {
     "data": {
      "text/plain": [
       "212"
      ]
     },
     "execution_count": 49,
     "metadata": {},
     "output_type": "execute_result"
    }
   ],
   "source": [
    "len(x)"
   ]
  },
  {
   "cell_type": "code",
   "execution_count": null,
   "metadata": {},
   "outputs": [],
   "source": []
  },
  {
   "cell_type": "code",
   "execution_count": 18,
   "metadata": {},
   "outputs": [],
   "source": [
    "from keras.models import load_model\n",
    "model = load_model('ver1.0.h5')"
   ]
  },
  {
   "cell_type": "code",
   "execution_count": 50,
   "metadata": {},
   "outputs": [],
   "source": [
    "pre=model.predict_classes(x)"
   ]
  },
  {
   "cell_type": "code",
   "execution_count": 51,
   "metadata": {},
   "outputs": [
    {
     "data": {
      "text/plain": [
       "array([[9.9841261e-01, 1.5845993e-03, 1.5696241e-06, ..., 6.2414376e-09,\n",
       "        4.7310316e-09, 1.7823288e-08],\n",
       "       [8.4126937e-01, 1.5865371e-01, 3.3482342e-05, ..., 9.4259468e-07,\n",
       "        7.2795854e-07, 7.4080208e-07],\n",
       "       [9.5351070e-02, 9.0458077e-01, 2.8831129e-05, ..., 1.8473199e-06,\n",
       "        1.2740279e-06, 2.2390400e-06],\n",
       "       ...,\n",
       "       [4.0317222e-01, 5.9680051e-01, 1.3925227e-05, ..., 7.7315644e-07,\n",
       "        1.4071432e-07, 1.5403931e-07],\n",
       "       [6.7554235e-01, 3.2444745e-01, 6.6178304e-06, ..., 5.4805692e-08,\n",
       "        4.6193378e-08, 6.1030882e-08],\n",
       "       [9.7837114e-01, 2.1613333e-02, 7.5489938e-06, ..., 7.1487079e-08,\n",
       "        3.3723762e-08, 8.3126480e-08]], dtype=float32)"
      ]
     },
     "execution_count": 51,
     "metadata": {},
     "output_type": "execute_result"
    }
   ],
   "source": [
    "model.predict(x)"
   ]
  },
  {
   "cell_type": "code",
   "execution_count": 52,
   "metadata": {},
   "outputs": [
    {
     "data": {
      "text/plain": [
       "array([0, 0, 1, 1, 1, 1, 0, 0, 1, 0, 0, 1, 0, 0, 1, 1, 1, 0, 1, 1, 0, 0,\n",
       "       0, 0, 0, 0, 1, 0, 1, 1, 1, 1, 0, 1, 0, 0, 1, 1, 1, 0, 1, 1, 1, 1,\n",
       "       0, 0, 1, 0, 0, 0, 0, 1, 0, 1, 0, 0, 1, 1, 0, 1, 1, 0, 1, 0, 0, 0,\n",
       "       1, 0, 0, 1, 1, 0, 1, 0, 0, 0, 1, 0, 1, 0, 1, 1, 0, 1, 0, 1, 0, 0,\n",
       "       1, 0, 1, 0, 0, 1, 1, 1, 1, 0, 1, 1, 1, 0, 1, 1, 1, 0, 0, 0, 0, 1,\n",
       "       0, 1, 0, 1, 1, 0, 0, 1, 1, 1, 0, 0, 0, 0, 1, 0, 0, 1, 1, 0, 1, 0,\n",
       "       0, 0, 1, 1, 1, 1, 1, 0, 1, 1, 1, 0, 0, 0, 0, 1, 1, 0, 0, 0, 0, 0,\n",
       "       0, 0, 0, 1, 1, 0, 0, 1, 0, 0, 0, 0, 1, 0, 0, 0, 0, 1, 0, 0, 0, 0,\n",
       "       0, 1, 0, 0, 0, 0, 0, 0, 1, 1, 0, 1, 0, 0, 1, 1, 1, 0, 0, 1, 0, 0,\n",
       "       1, 0, 0, 0, 0, 1, 0, 0, 1, 1, 0, 1, 0, 0], dtype=int64)"
      ]
     },
     "execution_count": 52,
     "metadata": {},
     "output_type": "execute_result"
    }
   ],
   "source": [
    "pre"
   ]
  },
  {
   "cell_type": "code",
   "execution_count": 39,
   "metadata": {},
   "outputs": [],
   "source": [
    "list1=[4, 4, 4, 2, 7, 4, 6, 3, 0, 4, 3, 4, 4, 4, 8, 3, 4, 3, 3, 3, 4, 3,\n",
    "       3, 3, 2, 2, 3, 3, 2, 0, 7, 4, 2, 8, 5, 5, 4, 5, 3, 7, 4, 3, 7, 3,\n",
    "       4, 4, 2, 2, 4, 4, 2, 0, 2, 2, 3, 3, 3, 2, 3, 3, 3, 3, 3, 3, 3, 2,\n",
    "       4, 4, 2, 4, 5, 2, 3, 5, 4, 3, 3, 3, 4, 3, 3, 3, 4, 4, 3, 4, 3, 3,\n",
    "       4, 4, 3, 5, 4, 3, 0, 2, 3, 3, 4, 2, 3, 2, 4, 3, 2, 2, 3, 4, 4, 5,\n",
    "       4, 2]"
   ]
  },
  {
   "cell_type": "code",
   "execution_count": 40,
   "metadata": {},
   "outputs": [
    {
     "name": "stdout",
     "output_type": "stream",
     "text": [
      "4\n"
     ]
    }
   ],
   "source": [
    "print(list1.count(0))"
   ]
  },
  {
   "cell_type": "code",
   "execution_count": 41,
   "metadata": {},
   "outputs": [
    {
     "name": "stdout",
     "output_type": "stream",
     "text": [
      "0\n"
     ]
    }
   ],
   "source": [
    "print(list1.count(1))"
   ]
  },
  {
   "cell_type": "code",
   "execution_count": 42,
   "metadata": {},
   "outputs": [
    {
     "name": "stdout",
     "output_type": "stream",
     "text": [
      "20\n"
     ]
    }
   ],
   "source": [
    "print(list1.count(2))"
   ]
  },
  {
   "cell_type": "code",
   "execution_count": 43,
   "metadata": {},
   "outputs": [
    {
     "name": "stdout",
     "output_type": "stream",
     "text": [
      "41\n"
     ]
    }
   ],
   "source": [
    "print(list1.count(3))"
   ]
  },
  {
   "cell_type": "code",
   "execution_count": 44,
   "metadata": {},
   "outputs": [
    {
     "name": "stdout",
     "output_type": "stream",
     "text": [
      "33\n"
     ]
    }
   ],
   "source": [
    "print(list1.count(4))"
   ]
  },
  {
   "cell_type": "code",
   "execution_count": 45,
   "metadata": {},
   "outputs": [
    {
     "name": "stdout",
     "output_type": "stream",
     "text": [
      "7\n"
     ]
    }
   ],
   "source": [
    "print(list1.count(5))"
   ]
  },
  {
   "cell_type": "code",
   "execution_count": 46,
   "metadata": {},
   "outputs": [
    {
     "name": "stdout",
     "output_type": "stream",
     "text": [
      "1\n"
     ]
    }
   ],
   "source": [
    "print(list1.count(6))"
   ]
  },
  {
   "cell_type": "code",
   "execution_count": 47,
   "metadata": {},
   "outputs": [
    {
     "name": "stdout",
     "output_type": "stream",
     "text": [
      "4\n"
     ]
    }
   ],
   "source": [
    "print(list1.count(7))"
   ]
  },
  {
   "cell_type": "code",
   "execution_count": 48,
   "metadata": {},
   "outputs": [
    {
     "name": "stdout",
     "output_type": "stream",
     "text": [
      "2\n"
     ]
    }
   ],
   "source": [
    "print(list1.count(8))"
   ]
  },
  {
   "cell_type": "code",
   "execution_count": 49,
   "metadata": {},
   "outputs": [
    {
     "name": "stdout",
     "output_type": "stream",
     "text": [
      "0\n"
     ]
    }
   ],
   "source": [
    "print(list1.count(9))"
   ]
  },
  {
   "cell_type": "markdown",
   "metadata": {},
   "source": [
    "# 알파벳 순으로 숫자가 결정됨.\n",
    "\n",
    "\n",
    "# 기타\n",
    "array([0, 0, 0, 0, 0, 0, 0, 0, 0, 0, 0, 0, 0, 0, 0, 0, 0, 0, 0, 0, 0, 0,\n",
    "       0, 0, 0, 0, 0, 0, 0, 0, 0, 0, 0, 0, 0, 0, 0, 0, 0, 0, 0, 0, 0, 0,\n",
    "       0, 0, 0, 0, 4, 0, 0, 0, 0, 0, 0, 0, 0, 0, 0, 0, 0, 0, 4, 0, 0, 0,\n",
    "       0, 0, 0, 0, 0, 0], dtype=int64)\n",
    "\n",
    "\n",
    "# 베이스 드럼\n",
    "array([1, 1, 2, 1, 2, 1, 2, 4, 2, 4, 1, 0, 1, 1, 1, 1, 1, 1, 2, 2, 1, 1,\n",
    "       2, 4, 2, 2, 1, 0, 1, 1, 2, 4, 1, 2, 1, 2, 2, 2, 1, 4, 2, 1, 1, 1,\n",
    "       2, 2, 2, 4, 2, 1, 1, 1, 1, 1, 4, 2], dtype=int64)\n",
    "\n",
    "# 첼로\n",
    "\n",
    "array([2, 2, 2, 2, 2, 2, 5, 2, 2, 0, 2, 2, 0, 2, 2, 5, 0, 2, 2, 2, 0, 2,\n",
    "       2, 2, 5, 0, 2, 2, 0, 2, 2, 2, 2, 5, 2, 2, 0, 2, 2, 2, 2, 2, 2, 2,\n",
    "       2, 2, 2, 5, 3, 2, 2, 5, 0, 2, 2, 2, 2, 2, 2, 2, 2, 2, 2, 2, 2, 2,\n",
    "       2, 2, 2, 2, 2, 2, 2, 2, 0, 2, 2, 0, 2, 0, 2, 2, 2, 0, 2, 0, 2, 2,\n",
    "       0, 2, 2, 2, 2, 0, 2, 2, 2, 2, 2, 2, 0, 2, 2, 5, 2, 0, 2, 0, 0, 2,\n",
    "       2, 0, 2, 2, 0, 0, 2, 0, 2, 2, 2, 2, 2, 2, 0, 2, 2, 0, 2, 2, 2, 5,\n",
    "       0, 5, 2, 2, 2, 2, 0, 5, 2, 2, 2, 5], dtype=int64)\n",
    "       \n",
    "  \n",
    "# 클라리넷\n",
    "array([3, 3, 3, 3, 3, 3, 3, 3, 3, 3, 3, 3, 3, 3, 3, 3, 3, 3, 3, 5, 3, 3,\n",
    "       3, 3, 3, 3, 3, 5, 3, 3, 3, 3, 3, 3, 3, 3, 3, 3, 3, 3, 3, 3, 5, 3,\n",
    "       5, 3, 3, 3, 3, 3, 3, 3, 3, 3, 3, 3, 3, 3, 3, 3, 3, 3, 3, 3, 3, 3,\n",
    "       3, 3], dtype=int64)\n",
    "       \n",
    "\n",
    "\n",
    "# 더블베이스\n",
    "array([4, 0, 0, 4, 0, 4, 4, 4, 4, 4, 4, 5, 4, 4, 4, 4, 4, 0, 4, 4, 0, 4,\n",
    "       4, 4, 4, 4, 4, 4, 0, 4, 4, 5, 0, 4, 0, 4, 4, 4, 4, 4, 4, 4, 4, 4,\n",
    "       4, 0], dtype=int64)\n",
    "\n",
    "\n",
    "# 플루트\n",
    "array([0, 5, 5, 5, 5, 5, 5, 5, 5, 5, 5, 5, 5, 5, 5, 5, 5, 5, 5, 5, 5, 5,\n",
    "       5, 5, 5, 5, 5, 5, 5, 5, 5, 5, 5, 5, 5, 5, 5, 5, 5, 5], dtype=int64)\n",
    "       \n",
    "       \n",
    "# 하이햇\n",
    "\n",
    "array([6, 6, 6, 6, 6, 6, 6, 6, 6, 6, 6, 6, 6, 6, 6, 6, 6, 6, 6, 6, 6, 6,\n",
    "       6, 6, 6, 6, 6, 6, 6, 6, 6, 6, 6, 6, 6, 6, 6, 6, 6, 6, 6, 6, 6, 6,\n",
    "       6, 6, 6, 6, 6, 6, 6, 6, 6, 6, 6, 6, 6, 6, 6, 6, 6, 6], dtype=int64)\n",
    "\n",
    "\n",
    "# 섹소폰\n",
    "array([7, 7, 7, 7, 7, 7, 7, 7, 7, 5, 7, 7, 1, 7, 7, 7, 7, 7, 7, 4, 5, 7,\n",
    "       7, 7, 7, 7, 8, 7, 7, 7, 7, 7, 7, 5, 5, 7, 7, 7, 7, 7, 7, 7, 7, 7,\n",
    "       7, 7, 5, 7, 7, 4, 7, 7, 4, 7, 5, 7, 7, 7, 7, 7, 5, 7, 7, 7, 5, 4,\n",
    "       7, 7, 7, 7, 7, 7, 7, 7, 7, 4, 7, 7, 7, 7, 4, 7], dtype=int64)\n",
    "\n",
    "\n",
    "\n",
    "\n",
    "# 스네어 드럼\n",
    "array([8, 8, 8, 8, 3, 8], dtype=int64)\n",
    "\n",
    "\n",
    "  \n",
    "# 바이올린\n",
    "array([9, 9, 9, 9, 9, 9, 9, 9, 9, 9, 9, 9, 9, 9, 9, 9, 9, 9, 9, 9, 9, 9,\n",
    "       9, 9, 9, 9, 9, 9, 9, 9, 9, 9, 9, 9, 9, 9, 9, 9, 9, 9], dtype=int64)\n",
    "\n",
    "\n"
   ]
  },
  {
   "cell_type": "code",
   "execution_count": null,
   "metadata": {},
   "outputs": [],
   "source": []
  }
 ],
 "metadata": {
  "kernelspec": {
   "display_name": "Python 3",
   "language": "python",
   "name": "python3"
  },
  "language_info": {
   "codemirror_mode": {
    "name": "ipython",
    "version": 3
   },
   "file_extension": ".py",
   "mimetype": "text/x-python",
   "name": "python",
   "nbconvert_exporter": "python",
   "pygments_lexer": "ipython3",
   "version": "3.6.5"
  }
 },
 "nbformat": 4,
 "nbformat_minor": 2
}
