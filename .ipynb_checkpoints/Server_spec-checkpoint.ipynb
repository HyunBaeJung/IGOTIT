{
 "cells": [
  {
   "cell_type": "markdown",
   "metadata": {},
   "source": [
    "1. 앱으로부터 위험상황이라고 추정된 음성파일을 받음\n",
    "2. 음성파일을 분석한다(트리거단어 &데시벨 을 통해서)\n",
    "3. 분석결과 n%이상 위험상황이라 판단\n",
    "4. 앱에게 패턴 띄우라는 신호 전송\n",
    "5. 앱으로부터 패턴결과 받음<br>\n",
    "  5-1 패턴응답(위기x) -> 아무것도 안함<br>\n",
    "  5-2 패턴무응답(위기) -> angels에게 1분.wav와 실시간gps 전송\n",
    " "
   ]
  },
  {
   "cell_type": "markdown",
   "metadata": {},
   "source": [
    "### 명시된 기능\n",
    "- 형태소분석"
   ]
  },
  {
   "cell_type": "code",
   "execution_count": null,
   "metadata": {
    "collapsed": true
   },
   "outputs": [],
   "source": [
    "\"\"\"\n",
    "class 음성정제(음성파일):\n",
    "    디바이스에서 업로드된 음성파일을 정제한다.\n",
    "    (데시벨이 낮은 부분 제거, 너무 높아서 분석 불가능한 부분 제거 등등)\n",
    "    정제 후에 음성텍스트변환() class에 정제된 음성 전달\n",
    "    \n",
    "    \n",
    "    \n",
    "\"\"\""
   ]
  },
  {
   "cell_type": "code",
   "execution_count": null,
   "metadata": {
    "collapsed": true
   },
   "outputs": [],
   "source": [
    "\"\"\"\n",
    "class 위험감지분석(  ):\n",
    "    \n",
    "\"\"\""
   ]
  },
  {
   "cell_type": "code",
   "execution_count": null,
   "metadata": {},
   "outputs": [],
   "source": []
  },
  {
   "cell_type": "code",
   "execution_count": null,
   "metadata": {},
   "outputs": [],
   "source": [
    "\"\"\"\n",
    "class 비명분류(앱에서 소리데이터.wav):\n",
    "    \n",
    "    입력된 소리데이터 (버퍼링된 소리30초 + 뒤의소리 30초) 를 \n",
    "    분석하여 학습된 데이터 (비명소리, 대조군) 중 예측값 출력 \n",
    "    (비명소리냐 비명이 아닌 소리냐 둘 중 하나만 출력)\n",
    "    EX)비명확률 = 76%\n",
    "    \n",
    "    IF 비명확률 > 70%:\n",
    "        {%  GPS감지.위급상황GPS정보전달() %}값과\n",
    "        {% 버퍼링된 소리30초 + 뒤의소리 30초 %}두 값을\n",
    "        위기시 데이터전송class에 전송\n",
    "        \n",
    "        그리고 후에\n",
    "        {%  GPS감지.위기상황GPS정보트래킹() %}값을 초단위로 전송\n",
    "        \n",
    "    \n",
    "\"\"\""
   ]
  },
  {
   "cell_type": "code",
   "execution_count": null,
   "metadata": {
    "collapsed": true
   },
   "outputs": [],
   "source": [
    "\"\"\"\n",
    "1. 문장 단위로 변환\n",
    "2. 변환된 파일들을 csv 등등 파일형태로 저장\n",
    "3. class 형태소 분석(텍스트 변환 파일.csv)\n",
    "\n",
    "class 자연어분석( 정제된 음성 ):\n",
    "    * API 적용하기\n",
    "    \n",
    "    var textConvert = 문장단위변환(정제된음성)\n",
    "    var testRatio = 형태소분석(text_csv)\n",
    "    빈도분석(text_csv)\n",
    "    \n",
    "    class 데이터저장(textConvert, textRatio)\n",
    "    \n",
    "    def 문장단위변환(정제된 음성.wav):\n",
    "        * API 적용하기(watson STT)\n",
    "        if 0.5초 이상의 공백 발생:\n",
    "            1초 wait(음성파일.wav)\n",
    "            다음 줄로 커서 이동\n",
    "            continue\n",
    "        var text_csv = 텍스트로 변환 파일.csv\n",
    "        return text_csv\n",
    "    \n",
    "    \n",
    "    def 형태소분석( csv ):\n",
    "        정제된 데이터를 KONLPY를 이용해 형태소 분석하여\n",
    "        토큰화된 데이터를 생성한다.\n",
    "        gensim이라는 w2v 모델로 워드임베딩(벡터 화)을 하여 모델 저장한다.\n",
    "        단어벡터들을 fully connectrd layer와 softmax함수를 이용해 분류\n",
    "        0: 부정 1: 긍정\n",
    "        return 긍정부정 비율\n",
    "        * 구현 완료\n",
    "        \n",
    "    def 빈도 분석(csv):\n",
    "        read(csv) 한 후\n",
    "        KONLPY를 이용하여 품사 태깅\n",
    "        접속사, 조사, 명사 등을 각각 wordcount\n",
    "        시각화(히스토그램...)\n",
    "\"\"\""
   ]
  },
  {
   "cell_type": "code",
   "execution_count": null,
   "metadata": {
    "collapsed": true
   },
   "outputs": [],
   "source": [
    "\"\"\"\n",
    "class 데이터 저장( * ):\n",
    "    단어의 빈도수와 GPS데이터등 사용자 성향에 관해 분석한 데이터를\n",
    "    DB에 저장한다.\n",
    "\"\"\""
   ]
  },
  {
   "cell_type": "code",
   "execution_count": null,
   "metadata": {},
   "outputs": [],
   "source": [
    "\"\"\"\n",
    "class 위험상황 전송():\n",
    "    (class 위험감지분석 결과) 위험이라고 판단되어\n",
    "    앱에게 패턴 띄우라는 신호 전송\n",
    "\"\"\"\n"
   ]
  },
  {
   "cell_type": "code",
   "execution_count": null,
   "metadata": {},
   "outputs": [],
   "source": []
  },
  {
   "cell_type": "code",
   "execution_count": null,
   "metadata": {},
   "outputs": [],
   "source": [
    "\"\"\"\n",
    "class 패턴결과 수신(패턴 결과):\n",
    "    앱의 패턴 띄우기class로부터 결과 수신\n",
    "    \n",
    "    IF 패턴을 풀었다:\n",
    "        위기상황이 아니므로\n",
    "        아무동작 안함.\n",
    "        {% Device.안전모드() %} 에 신호를 보낸다.   \n",
    "    IF 패턴을 풀지 못했다:\n",
    "        {% class 위기시 전송() %}에 parameter값\n",
    "        {%  GPS감지.위급상황GPS정보전달() %} + {% 버퍼링된 1분 음성.wav %}을 보낸다.\n",
    "\"\"\""
   ]
  },
  {
   "cell_type": "code",
   "execution_count": null,
   "metadata": {},
   "outputs": [],
   "source": [
    "\"\"\"\n",
    "class 위기시 전송({%  GPS감지.위급상황GPS정보전달() %} + {% 버퍼링된 1분 음성.wav %}):\n",
    "    \n",
    "    설정된 수호천사에 GPS정보와 음성파일을 전송한다.\n",
    "    \n",
    "    또한\n",
    "    GPS정보를 n초 단위로 전송한다.\n",
    "    \n",
    "\"\"\""
   ]
  }
 ],
 "metadata": {
  "kernelspec": {
   "display_name": "Python 3",
   "language": "python",
   "name": "python3"
  },
  "language_info": {
   "codemirror_mode": {
    "name": "ipython",
    "version": 3
   },
   "file_extension": ".py",
   "mimetype": "text/x-python",
   "name": "python",
   "nbconvert_exporter": "python",
   "pygments_lexer": "ipython3",
   "version": "3.7.2"
  }
 },
 "nbformat": 4,
 "nbformat_minor": 1
}
