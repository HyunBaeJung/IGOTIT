{
 "cells": [
  {
   "cell_type": "code",
   "execution_count": null,
   "metadata": {
    "collapsed": true
   },
   "outputs": [],
   "source": [
    "import speech_recognition as sr\n",
    "\n",
    "# Convert `data` to 32 bit integers:\n",
    "\n",
    "r = sr.Recognizer()\n",
    "audio = (\"test.wav\")\n",
    "\n",
    "with sr.AudioFile(audio) as source:\n",
    "    print('Say something!')\n",
    "    audio = r.record(source)\n",
    "    print('Done!')\n",
    "\n",
    "try:\n",
    "    language_code = 'ko-KR'  # 한국어로 변경\n",
    "    text = r.recognize_google(audio)\n",
    "    print(text.encode('utf-8'))\n",
    "\n",
    "except Exception as e:\n",
    "    print(e)"
   ]
  },
  {
   "cell_type": "code",
   "execution_count": null,
   "metadata": {
    "collapsed": true
   },
   "outputs": [],
   "source": []
  },
  {
   "cell_type": "code",
   "execution_count": null,
   "metadata": {
    "collapsed": true
   },
   "outputs": [],
   "source": []
  },
  {
   "cell_type": "code",
   "execution_count": null,
   "metadata": {
    "collapsed": true
   },
   "outputs": [],
   "source": []
  },
  {
   "cell_type": "code",
   "execution_count": null,
   "metadata": {
    "collapsed": true
   },
   "outputs": [],
   "source": []
  },
  {
   "cell_type": "code",
   "execution_count": null,
   "metadata": {
    "collapsed": true
   },
   "outputs": [],
   "source": []
  },
  {
   "cell_type": "code",
   "execution_count": null,
   "metadata": {
    "collapsed": true
   },
   "outputs": [],
   "source": []
  },
  {
   "cell_type": "code",
   "execution_count": null,
   "metadata": {
    "collapsed": true
   },
   "outputs": [],
   "source": []
  },
  {
   "cell_type": "code",
   "execution_count": 3,
   "metadata": {},
   "outputs": [],
   "source": [
    "#STT관련\n",
    "import speech_recognition as sr\n",
    "\n",
    "#녹음관련 import\n",
    "import pyaudio\n",
    "import wave\n",
    "\n",
    "#시간관련 import\n",
    "import time\n",
    "import os\n",
    "import datetime\n",
    "\n",
    "#스레딩 관련\n",
    "from threading import Thread\n",
    "\n",
    "global isEnd\n",
    "global isWord"
   ]
  },
  {
   "cell_type": "code",
   "execution_count": 4,
   "metadata": {
    "collapsed": true
   },
   "outputs": [],
   "source": [
    "def STT():\n",
    "\n",
    "    # Convert `data` to 32 bit integers:\n",
    "\n",
    "    r = sr.Recognizer()\n",
    "\n",
    "\n",
    "    with sr.Microphone() as source:\n",
    "        print('Say something!')\n",
    "        audio = r.listen(source)\n",
    "\n",
    "\n",
    "    try:\n",
    "        text = r.recognize_google(audio)\n",
    "        print('you said:{}'.format(text))\n",
    "        \n",
    "        #return text\n",
    "        \n",
    "    except Exception as e:\n",
    "        print(e)"
   ]
  },
  {
   "cell_type": "code",
   "execution_count": 5,
   "metadata": {},
   "outputs": [],
   "source": [
    "def soundListener():\n",
    "    \n",
    "    global isEnd\n",
    "    \n",
    "    isEnd = 0\n",
    "    \n",
    "    while isEnd == 0:\n",
    "        \n",
    "        text = STT()\n",
    "        \n",
    "        if text == \"hello\":\n",
    "            isEnd == 1"
   ]
  },
  {
   "cell_type": "code",
   "execution_count": 6,
   "metadata": {
    "collapsed": true
   },
   "outputs": [],
   "source": [
    "def oneSecondRec(file_name):\n",
    "    \n",
    "    CHUNK = 1024\n",
    "    FORMAT = pyaudio.paInt16\n",
    "    CHANNELS = 2\n",
    "    RATE = 44100\n",
    "    RECORD_SECONDS = 1\n",
    "    WAVE_OUTPUT_FILENAME = \"test/\"+file_name+\".wav\"\n",
    "\n",
    "    p = pyaudio.PyAudio()\n",
    "\n",
    "    stream = p.open(format=FORMAT,\n",
    "                    channels=CHANNELS,\n",
    "                    rate=RATE,\n",
    "                    input=True,\n",
    "                    frames_per_buffer=CHUNK)\n",
    "\n",
    "    print(\"* recording\")\n",
    "\n",
    "    frames = []\n",
    "\n",
    "    for i in range(0, int(RATE / CHUNK * RECORD_SECONDS)):\n",
    "        data = stream.read(CHUNK)\n",
    "        frames.append(data)\n",
    "\n",
    "    print(\"* done recording\")\n",
    "\n",
    "    stream.stop_stream()\n",
    "    stream.close()\n",
    "    p.terminate()\n",
    "\n",
    "    wf = wave.open(WAVE_OUTPUT_FILENAME, 'wb')\n",
    "    wf.setnchannels(CHANNELS)\n",
    "    wf.setsampwidth(p.get_sample_size(FORMAT))\n",
    "    wf.setframerate(RATE)\n",
    "    wf.writeframes(b''.join(frames))\n",
    "    wf.close()\n",
    "    \n",
    "    return file_name+\".wav\" "
   ]
  },
  {
   "cell_type": "code",
   "execution_count": 7,
   "metadata": {
    "collapsed": true
   },
   "outputs": [],
   "source": [
    "def timenow():\n",
    "    \n",
    "    import datetime\n",
    "    \n",
    "    now = datetime.datetime.now()\n",
    "    nowDatetime = now.strftime('%Y%m%d_%H%M%S')\n",
    "    return nowDatetime"
   ]
  },
  {
   "cell_type": "code",
   "execution_count": 8,
   "metadata": {
    "collapsed": true
   },
   "outputs": [],
   "source": [
    "#MAP함수로 변경 가능하게 바꾸는것이 이상적.\n",
    "def buffering():\n",
    "    \n",
    "    import os\n",
    "    \n",
    "    buffer = []\n",
    "\n",
    "    for a in range(20):\n",
    "\n",
    "        file=oneSecondRec(timenow())\n",
    "\n",
    "        buffer.append(file)\n",
    "\n",
    "        if len(buffer) > 6:\n",
    "            delfile = buffer.pop(0)\n",
    "            os.remove(\"test/\"+delfile)"
   ]
  },
  {
   "cell_type": "code",
   "execution_count": 9,
   "metadata": {
    "collapsed": true
   },
   "outputs": [],
   "source": [
    " def main():\n",
    "    \n",
    "    global cont\n",
    "    \n",
    "    p1 = Thread(target=buffering) #함수 1을 위한 프로세스\n",
    "    p2 = Thread(target=soundListener) #함수 1을 위한 프로세스\n",
    "    \n",
    "    # start로 각 프로세스를 시작합니다. func1이 끝나지 않아도 func2가 실행됩니다.\n",
    "    p1.start()\n",
    "    p2.start()\n",
    "                        \n",
    "\n",
    "    # join으로 각 프로세스가 종료되길 기다립니다 p1.join()이 끝난 후 p2.join()을 수행합니다\n",
    "    p1.join()\n",
    "    p2.join()\n",
    "    "
   ]
  },
  {
   "cell_type": "code",
   "execution_count": null,
   "metadata": {},
   "outputs": [
    {
     "name": "stdout",
     "output_type": "stream",
     "text": [
      "* recording\n",
      "Say something!\n",
      "* done recording\n",
      "* recording\n",
      "* done recording\n",
      "* recording\n",
      "* done recording\n",
      "* recording\n",
      "* done recording\n",
      "* recording\n",
      "* done recording\n",
      "* recording\n",
      "* done recording\n",
      "* recording\n",
      "* done recording\n",
      "* recording\n",
      "* done recording\n",
      "* recording\n",
      "* done recording\n",
      "* recording\n",
      "* done recording\n",
      "* recording\n",
      "you said:haha\n",
      "Say something!\n",
      "* done recording\n",
      "* recording\n",
      "* done recording\n",
      "* recording\n",
      "* done recording\n",
      "* recording\n",
      "* done recording\n",
      "* recording\n",
      "* done recording\n",
      "* recording\n",
      "* done recording\n",
      "* recording\n",
      "* done recording\n",
      "* recording\n",
      "* done recording\n",
      "* recording\n",
      "* done recording\n",
      "* recording\n",
      "* done recording\n",
      "you said:hello hello\n",
      "Say something!\n"
     ]
    }
   ],
   "source": [
    "main()"
   ]
  },
  {
   "cell_type": "code",
   "execution_count": 10,
   "metadata": {},
   "outputs": [
    {
     "name": "stdout",
     "output_type": "stream",
     "text": [
      "Say something!\n",
      "you said:hello\n"
     ]
    }
   ],
   "source": [
    "STT()"
   ]
  },
  {
   "cell_type": "code",
   "execution_count": null,
   "metadata": {},
   "outputs": [],
   "source": [
    "buffering()"
   ]
  },
  {
   "cell_type": "code",
   "execution_count": null,
   "metadata": {
    "collapsed": true
   },
   "outputs": [],
   "source": []
  }
 ],
 "metadata": {
  "anaconda-cloud": {},
  "kernelspec": {
   "display_name": "Python 3",
   "language": "python",
   "name": "python3"
  },
  "language_info": {
   "codemirror_mode": {
    "name": "ipython",
    "version": 3
   },
   "file_extension": ".py",
   "mimetype": "text/x-python",
   "name": "python",
   "nbconvert_exporter": "python",
   "pygments_lexer": "ipython3",
   "version": "3.6.5"
  }
 },
 "nbformat": 4,
 "nbformat_minor": 1
}
