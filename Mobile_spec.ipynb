{
 "cells": [
  {
   "cell_type": "markdown",
   "metadata": {},
   "source": [
    "### 현재 명시된 부분\n",
    "\n",
    "- GPS정보전달\n",
    "- 수호천사 설정\n",
    "- 안전"
   ]
  },
  {
   "cell_type": "code",
   "execution_count": 1,
   "metadata": {
    "collapsed": true
   },
   "outputs": [
    {
     "data": {
      "text/plain": [
       "'\\nclass GPS정보전달():\\n\\n'"
      ]
     },
     "execution_count": 1,
     "metadata": {},
     "output_type": "execute_result"
    }
   ],
   "source": [
    "\"\"\"\n",
    "*Geolocation API존재 확인\n",
    "\n",
    "class GPS정보():\n",
    "    디바이스에서 요청이 들어올 때 마다.\n",
    "    GPS데이터를 전송한다.\n",
    "\n",
    "\"\"\""
   ]
  },
  {
   "cell_type": "code",
   "execution_count": null,
   "metadata": {
    "collapsed": true
   },
   "outputs": [],
   "source": [
    "\"\"\"\n",
    "class 패떤띄우기({%  GPS감지.위급상황GPS정보전달() %} + {% 버퍼링된 소리5초 + 뒤의소리 5초 %}):\n",
    "\n",
    "    패떤띄우기 class에 데이터가 input되면 자동으로 위기상황으로 인식됩니다.\n",
    "    \n",
    "    IF 패턴을 풀었다:\n",
    "        위기상황이 아니므로\n",
    "        {% Device.안전모드() %} 에 신호를 보낸다.   \n",
    "    IF 패턴을 풀지 못했다:\n",
    "        {% class 위기시 전송() %}에 parameter값\n",
    "        {%  GPS감지.위급상황GPS정보전달() %} + {% 버퍼링된 소리5초 + 뒤의소리 5초 %}을 보낸다.\n",
    "        \n",
    "\"\"\""
   ]
  },
  {
   "cell_type": "code",
   "execution_count": null,
   "metadata": {
    "collapsed": true
   },
   "outputs": [],
   "source": [
    "\"\"\"\n",
    "class 위기시 전송({%  GPS감지.위급상황GPS정보전달() %} + {% 버퍼링된 소리5초 + 뒤의소리 5초 %}):\n",
    "    \n",
    "    설정된 수호천사에 GPS정보와 음성파일을 전송한다.\n",
    "    \n",
    "    또한\n",
    "    GPS정보를 초단위로 전송한다.\n",
    "    \n",
    "    def 수호천사 설정():\n",
    "        위급상황시 음성파일과 GPS정보를 전송할 수호천사를 설정한다.\n",
    "    \n",
    "    \n",
    "\"\"\""
   ]
  },
  {
   "cell_type": "code",
   "execution_count": null,
   "metadata": {
    "collapsed": true
   },
   "outputs": [],
   "source": [
    "\"\"\"\n",
    "class 수호천사 설정():\n",
    "    위급상황시 음성파일과 GPS정보를 전송할 수호천사를 설정한다.\n",
    "    \n",
    "\"\"\""
   ]
  }
 ],
 "metadata": {
  "anaconda-cloud": {},
  "kernelspec": {
   "display_name": "Python [conda root]",
   "language": "python",
   "name": "conda-root-py"
  },
  "language_info": {
   "codemirror_mode": {
    "name": "ipython",
    "version": 3
   },
   "file_extension": ".py",
   "mimetype": "text/x-python",
   "name": "python",
   "nbconvert_exporter": "python",
   "pygments_lexer": "ipython3",
   "version": "3.5.2"
  }
 },
 "nbformat": 4,
 "nbformat_minor": 1
}
