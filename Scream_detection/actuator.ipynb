{
 "cells": [
  {
   "cell_type": "code",
   "execution_count": null,
   "metadata": {},
   "outputs": [],
   "source": [
    "import SR_module, PD_module"
   ]
  },
  {
   "cell_type": "code",
   "execution_count": null,
   "metadata": {},
   "outputs": [],
   "source": [
    "SR_module.main()"
   ]
  },
  {
   "cell_type": "code",
   "execution_count": null,
   "metadata": {},
   "outputs": [],
   "source": [
    "PD_module.percent(PD_module.model_predict('ver1.0.h5',PD_module.data_process()))"
   ]
  },
  {
   "cell_type": "code",
   "execution_count": null,
   "metadata": {},
   "outputs": [],
   "source": [
    "from threading import Thread\n",
    "\n",
    "import SR_module, PD_module, buffering, recording, appconnector, stt"
   ]
  },
  {
   "cell_type": "code",
   "execution_count": null,
   "metadata": {},
   "outputs": [],
   "source": [
    " def main():\n",
    "    \n",
    "    global cont\n",
    "    \n",
    "    p1 = Thread(target=buffering.buffering) #함수 1을 위한 프로세스\n",
    "    #p2 = Thread(target=stt.texting) #함수 1을 위한 프로세스\n",
    "    #p3 = Thread(target=recording.recording) #함수 1을 위한 프로세스\n",
    "    p4 = Thread(target=appconnector.openSoket) #함수 1을 위한 프로세스\n",
    "    \n",
    "    # start로 각 프로세스를 시작합니다. func1이 끝나지 않아도 func2가 실행됩니다.\n",
    "    p1.start()\n",
    "    #p2.start()\n",
    "    #p3.start()\n",
    "    p4.start()\n",
    "                        \n",
    "\n",
    "    # join으로 각 프로세스가 종료되길 기다립니다 p1.join()이 끝난 후 p2.join()을 수행합니다\n",
    "    p1.join()\n",
    "    #p2.join()\n",
    "    #p3.join()\n",
    "    p4.join()"
   ]
  },
  {
   "cell_type": "code",
   "execution_count": null,
   "metadata": {},
   "outputs": [],
   "source": [
    "main()"
   ]
  },
  {
   "cell_type": "code",
   "execution_count": null,
   "metadata": {},
   "outputs": [],
   "source": []
  }
 ],
 "metadata": {
  "kernelspec": {
   "display_name": "Python 3",
   "language": "python",
   "name": "python3"
  },
  "language_info": {
   "codemirror_mode": {
    "name": "ipython",
    "version": 3
   },
   "file_extension": ".py",
   "mimetype": "text/x-python",
   "name": "python",
   "nbconvert_exporter": "python",
   "pygments_lexer": "ipython3",
   "version": "3.6.5"
  }
 },
 "nbformat": 4,
 "nbformat_minor": 2
}
