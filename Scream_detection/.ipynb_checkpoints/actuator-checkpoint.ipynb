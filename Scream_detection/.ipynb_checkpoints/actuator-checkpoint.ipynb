{
 "cells": [
  {
   "cell_type": "code",
   "execution_count": null,
   "metadata": {},
   "outputs": [],
   "source": [
    "import SR_module, PD_module"
   ]
  },
  {
   "cell_type": "code",
   "execution_count": null,
   "metadata": {},
   "outputs": [],
   "source": [
    "SR_module.main()"
   ]
  },
  {
   "cell_type": "code",
   "execution_count": null,
   "metadata": {},
   "outputs": [],
   "source": [
    "PD_module.percent(PD_module.model_predict('ver1.0.h5',PD_module.data_process()))"
   ]
  },
  {
   "cell_type": "code",
   "execution_count": 1,
   "metadata": {},
   "outputs": [
    {
     "name": "stderr",
     "output_type": "stream",
     "text": [
      "C:\\Users\\gusqo\\AppData\\Local\\Continuum\\anaconda3\\lib\\site-packages\\h5py\\__init__.py:36: FutureWarning: Conversion of the second argument of issubdtype from `float` to `np.floating` is deprecated. In future, it will be treated as `np.float64 == np.dtype(float).type`.\n",
      "  from ._conv import register_converters as _register_converters\n",
      "Using TensorFlow backend.\n"
     ]
    }
   ],
   "source": [
    "from threading import Thread\n",
    "\n",
    "import SR_module, PD_module, buffering, recording, appconnector, stt"
   ]
  },
  {
   "cell_type": "code",
   "execution_count": 2,
   "metadata": {},
   "outputs": [],
   "source": [
    " def main():\n",
    "    \n",
    "    global cont\n",
    "    \n",
    "    p1 = Thread(target=buffering.buffering) #함수 1을 위한 프로세스\n",
    "    #p2 = Thread(target=stt.texting) #함수 1을 위한 프로세스\n",
    "    #p3 = Thread(target=recording.recording) #함수 1을 위한 프로세스\n",
    "    p4 = Thread(target=appconnector.openSoket) #함수 1을 위한 프로세스\n",
    "    \n",
    "    # start로 각 프로세스를 시작합니다. func1이 끝나지 않아도 func2가 실행됩니다.\n",
    "    p1.start()\n",
    "    #p2.start()\n",
    "    #p3.start()\n",
    "    p4.start()\n",
    "                        \n",
    "\n",
    "    # join으로 각 프로세스가 종료되길 기다립니다 p1.join()이 끝난 후 p2.join()을 수행합니다\n",
    "    p1.join()\n",
    "    #p2.join()\n",
    "    #p3.join()\n",
    "    p4.join()"
   ]
  },
  {
   "cell_type": "code",
   "execution_count": null,
   "metadata": {},
   "outputs": [
    {
     "name": "stdout",
     "output_type": "stream",
     "text": [
      "* recording\n",
      "* done recording\n",
      "* recording\n",
      "* done recording\n",
      "* recording\n",
      "* done recording\n",
      "* recording\n",
      "* done recording\n",
      "* recording\n",
      "* done recording\n",
      "* recording\n",
      "* done recording\n"
     ]
    },
    {
     "name": "stderr",
     "output_type": "stream",
     "text": [
      "Exception in thread Thread-6:\n",
      "Traceback (most recent call last):\n",
      "  File \"C:\\Users\\gusqo\\AppData\\Local\\Continuum\\anaconda3\\lib\\threading.py\", line 916, in _bootstrap_inner\n",
      "    self.run()\n",
      "  File \"C:\\Users\\gusqo\\AppData\\Local\\Continuum\\anaconda3\\lib\\threading.py\", line 864, in run\n",
      "    self._target(*self._args, **self._kwargs)\n",
      "  File \"C:\\Users\\gusqo\\OneDrive\\문서\\GitHub\\IGOTIT\\Scream_detection\\buffering.py\", line 86, in buffering\n",
      "    os.remove(\"test/\"+delfile)\n",
      "FileNotFoundError: [WinError 2] 지정된 파일을 찾을 수 없습니다: 'test/20190201_131207.wav'\n",
      "\n"
     ]
    },
    {
     "name": "stdout",
     "output_type": "stream",
     "text": [
      "b'heyheyheyheyheyheyhey'\n"
     ]
    }
   ],
   "source": [
    "main()"
   ]
  },
  {
   "cell_type": "code",
   "execution_count": null,
   "metadata": {},
   "outputs": [],
   "source": []
  }
 ],
 "metadata": {
  "kernelspec": {
   "display_name": "Python 3",
   "language": "python",
   "name": "python3"
  },
  "language_info": {
   "codemirror_mode": {
    "name": "ipython",
    "version": 3
   },
   "file_extension": ".py",
   "mimetype": "text/x-python",
   "name": "python",
   "nbconvert_exporter": "python",
   "pygments_lexer": "ipython3",
   "version": "3.6.5"
  }
 },
 "nbformat": 4,
 "nbformat_minor": 2
}
