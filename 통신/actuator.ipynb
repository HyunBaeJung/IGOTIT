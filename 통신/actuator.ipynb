{
 "cells": [
  {
   "cell_type": "code",
   "execution_count": null,
   "metadata": {},
   "outputs": [],
   "source": [
    "import SR_module, PD_module, buffering, acceleration\n",
    "import os"
   ]
  },
  {
   "cell_type": "code",
   "execution_count": null,
   "metadata": {},
   "outputs": [],
   "source": [
    "from threading import Thread"
   ]
  },
  {
   "cell_type": "code",
   "execution_count": null,
   "metadata": {
    "scrolled": true
   },
   "outputs": [],
   "source": [
    "def test():\n",
    "    while True:\n",
    "        buffer=buffering.buffering()\n",
    "        if SR_module.main(buffer)=='scream':\n",
    "            if PD_module.percent_scream(PD_module.model_predict('igotit.h5',PD_module.data_process()))==True:\n",
    "                acceleration.scream_situation()\n",
    "        elif SR_module.main(buffer)=='clash':\n",
    "            if PD_module.percent_clash(PD_module.model_predict('igotit.h5',PD_module.data_process()))==True:\n",
    "                PD_module.acceleration()\n",
    "                acceleration.clash_situation()\n",
    "        else:\n",
    "            SR_module.message()        \n",
    "#     for delfile in buffer:\n",
    "#         os.remove(\"test/\"+\"Buf_\"+delfile)"
   ]
  },
  {
   "cell_type": "code",
   "execution_count": null,
   "metadata": {},
   "outputs": [],
   "source": [
    "\n",
    "def main():\n",
    "    \n",
    "    global cont\n",
    "    \n",
    "    p1 = Thread(target=acceleration.serveropne) #함수 1을 위한 프로세스\n",
    "    p2 = Thread(target=test) #함수 1을 위한 프로세스\n",
    "    \n",
    "    # start로 각 프로세스를 시작합니다. func1이 끝나지 않아도 func2가 실행됩니다.\n",
    "    p1.start()\n",
    "    p2.start()\n",
    "                        \n",
    "\n",
    "    # join으로 각 프로세스가 종료되길 기다립니다 p1.join()이 끝난 후 p2.join()을 수행합니다\n",
    "    p1.join()\n",
    "    p2.join()"
   ]
  },
  {
   "cell_type": "code",
   "execution_count": null,
   "metadata": {
    "scrolled": false
   },
   "outputs": [],
   "source": [
    "main()"
   ]
  },
  {
   "cell_type": "code",
   "execution_count": null,
   "metadata": {},
   "outputs": [],
   "source": []
  },
  {
   "cell_type": "code",
   "execution_count": null,
   "metadata": {},
   "outputs": [],
   "source": [
    "# buffer=buffering.buffering()\n",
    "# if SR_module.main(buffer)=='scream':\n",
    "#     if PD_module.percent_scream(PD_module.model_predict('igotit.h5',PD_module.data_process()))==True:\n",
    "acceleration.scream_situation\n",
    "# elif SR_module.main(buffer)=='clash':\n",
    "#     if PD_module.percent_clash(PD_module.model_predict('igotit.h5',PD_module.data_process()))==True:\n",
    "#         PD_module.acceleration()\n",
    "# else:\n",
    "#     SR_module.message()        \n",
    "#     for delfile in buffer:\n",
    "#         os.remove(\"test/\"+\"Buf_\"+delfile)"
   ]
  },
  {
   "cell_type": "code",
   "execution_count": null,
   "metadata": {},
   "outputs": [],
   "source": [
    "def percent_scream(list):\n",
    "    \n",
    "    per={}\n",
    "    for a in list:\n",
    "        if a in per:\n",
    "            per[a] = per[a]+1\n",
    "        else:\n",
    "            per[a] = 1\n",
    "    scream=0\n",
    "    for i in list:\n",
    "        if i==1:\n",
    "            scream+=1\n",
    "    print(\"비명일 확률은 : %.2f%%입니다\"%((scream/len(list))*100))\n",
    "    if (scream/len(list)*100)>=80:\n",
    "        return True"
   ]
  },
  {
   "cell_type": "code",
   "execution_count": null,
   "metadata": {},
   "outputs": [],
   "source": []
  },
  {
   "cell_type": "code",
   "execution_count": null,
   "metadata": {},
   "outputs": [],
   "source": []
  }
 ],
 "metadata": {
  "kernelspec": {
   "display_name": "Python 3",
   "language": "python",
   "name": "python3"
  },
  "language_info": {
   "codemirror_mode": {
    "name": "ipython",
    "version": 3
   },
   "file_extension": ".py",
   "mimetype": "text/x-python",
   "name": "python",
   "nbconvert_exporter": "python",
   "pygments_lexer": "ipython3",
   "version": "3.6.5"
  }
 },
 "nbformat": 4,
 "nbformat_minor": 2
}
